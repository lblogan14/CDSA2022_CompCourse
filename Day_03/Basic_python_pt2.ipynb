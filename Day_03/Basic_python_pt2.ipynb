{
  "cells": [
    {
      "cell_type": "markdown",
      "metadata": {
        "id": "LR2z4SDatsPu"
      },
      "source": [
        "# Day 2: Variables and Flow Control\n",
        "\n",
        "## Learning Objectives\n",
        "\n",
        "* use a variable to store a number\n",
        "* use variables in a simple calculation\n",
        "* modify variables\n",
        "* write a simple `for` loop using the `range()` command\n",
        "* use ‘if’, ‘else’, and ‘elif’ to check for simple conditions\n",
        "* make a very basic plot\n"
      ]
    },
    {
      "cell_type": "markdown",
      "metadata": {
        "id": "8Ki99X9atsP0"
      },
      "source": [
        "# Supplemental videos\n",
        "\n",
        "Before beginning this module, please watch Video 2.1 *Variables and Flow* https://youtu.be/yQ_3oAa2QD0"
      ]
    },
    {
      "cell_type": "markdown",
      "metadata": {
        "id": "XsbFHB48tsP2"
      },
      "source": [
        "## Beyond Python as a calculator: Jupyter Cells\n",
        "\n",
        "The first step to make Python become more than a calculator is to write a routine (also known as a program or a code). A routine is a series of commands that can be executed in sequence. Within Jupyter, each cell forms its own little program that can be executed all at once.  For example, we may put a number into a variable and then print it:\n",
        "\n",
        "    y = 3.0 + 6.0/7.0 - 2.0**3.0\n",
        "    print(y)\n",
        "    \n",
        "Exercise: Execute the above code\n"
      ]
    },
    {
      "cell_type": "code",
      "execution_count": null,
      "metadata": {
        "id": "dcV5CBzutsP3"
      },
      "outputs": [],
      "source": [
        ""
      ]
    },
    {
      "cell_type": "markdown",
      "metadata": {
        "id": "MLyjpoNVtsP4"
      },
      "source": [
        "## Warning: Variables in Jupyter are _persistent_: that is, they carry across cells. To see this, print the variable `y` in the cell below."
      ]
    },
    {
      "cell_type": "code",
      "execution_count": null,
      "metadata": {
        "id": "T4SzfkdutsP4"
      },
      "outputs": [],
      "source": [
        ""
      ]
    },
    {
      "cell_type": "markdown",
      "metadata": {
        "id": "BfIWtCQutsP5"
      },
      "source": [
        "You can think of a variable as a little blank space where the computer stores a thing for you.  When we write\n",
        "\n",
        "    a = 2\n",
        "    \n",
        "The computer finds a blank piece of memory, writes the number `2` into it, and remembers that you called it `a`. This way, when you next write\n",
        "\n",
        "    print(a)\n",
        "    \n",
        "It knows to go back and look at the place in memory called `a`.\n",
        "\n",
        "The usage of the `=` here is somewhat different than we're used to in math.  Rather than an equation, it's an _assignment_ operator.  It reads: _take the thing on the right of the `=` (2), and put it in the memory location referred to by the thing on the left (`a`)_.\n",
        "\n",
        "Variables may be overwritten, modified, etc.  Here's a bit of code:\n",
        "\n",
        "    a = 10\n",
        "    b = a + 3\n",
        "    a = 0\n",
        "    print(a,b)\n",
        "    \n",
        "What is the output of this program?  Why?"
      ]
    },
    {
      "cell_type": "code",
      "execution_count": null,
      "metadata": {
        "id": "yG_DnYBftsP5"
      },
      "outputs": [],
      "source": [
        ""
      ]
    },
    {
      "cell_type": "markdown",
      "metadata": {
        "id": "fu3b3hyttsP6"
      },
      "source": [
        "## A simple piece of code\n",
        "\n",
        "Consider the motion of a ball thrown vertically. It’s height y as a function of time t is given by:\n",
        "\n",
        "$y(t) = v_0t − (1/2)gt^2$\n",
        "\n",
        "where we’ve used the origin as the initial height. Suppose we want to compute the position of the ball at $t = 2$s, given an initial velocity of $v_0 = 10$m/s. Here is a simple code that will carry out the calculation:\n",
        "\n",
        " \n",
        "    # Height of an object thrown vertically upward\n",
        "    \n",
        "    t = 2.0    # time at which we want the position (s)\n",
        "    v0 = 10.0  # initial velocity (m/s)\n",
        "    g = 9.8    # acceleration due to gravity (m/s**2)\n",
        "    \n",
        "    y = v0*t - 0.5*g*t**2  # compute the vertical position\n",
        "    print(y)\n",
        "    \n",
        "    \n",
        "There are few things to note about the above routine. \n",
        "\n",
        "First, comments are used throughout the code to explain what is going on. A comment is anything that begins with a `#`, either on its own line or at the end of another. Commenting your code will help anyone who reads it later—including yourself. \n",
        "\n",
        "Second, we assigned variables to the numbers. This is especially useful when the same quantity (like the time t) will be used multiple times throughout the routine. If you decide to change the value of that quantity, you only have to make the change in one place. Finally, blank lines have been inserted between the logical breaks in the code. The code begins with a header. The next section is where all of the variables are defined. Next is the section where the result is computed. The final section is where the output is returned. Separating the code like this improves its readability.\n",
        "\n",
        "__Exercise: Run the code found above in the cell below__\n",
        "\n",
        "\n",
        "\n",
        "<br>\n",
        "To further improve things, we can modify the print statement to include some explanation. Change the final line of your routine to something like:\n",
        "\n",
        "     print(\"The height at t = {} seconds is y = {} meters\".format(t,y))\n",
        "     \n",
        "There are other ways to create this same output. Try the following:\n",
        "\n",
        "     print(\"The height at t = \", t, \"seconds is y = \", y, \"meters\")\n",
        "     \n",
        "Here, the output consists of strings and variables. Here is another method:\n",
        "\n",
        "     print(\"The height at t = \"+str(t)+\" seconds is y = \"+str(y)+\" meters\")\n",
        "     \n",
        "In this case, we have transformed the numbers into strings and then concatenated everything into a single string.  Note that in the last case we're using `+`, which concatenates the string, rather than giving multiple \n",
        "arguments (separated by `,`s) to `print()`.\n",
        "\n",
        "__Exercise: Copy the code from above in the cell below and modify it to include some explanation in the print statement.__\n"
      ]
    },
    {
      "cell_type": "code",
      "execution_count": null,
      "metadata": {
        "id": "NE-QNf4OtsP7"
      },
      "outputs": [],
      "source": [
        ""
      ]
    },
    {
      "cell_type": "markdown",
      "metadata": {
        "id": "i8e7CNCPtsP7"
      },
      "source": [
        "Some things to notice about this bit of code:\n",
        "\n",
        "1. Any number that can be a non-integer has a `.0` after it.  This is to avoid confusion and a GOOD RULE TO FOLLOW\n",
        "2. Python is obeying order of operations as we expect -- the last term is being evaluated as `0.5 * g * (t**2)`\n",
        "3. We have copiously commented what this code does\n",
        "    "
      ]
    },
    {
      "cell_type": "markdown",
      "metadata": {
        "id": "493ewHIWtsP8"
      },
      "source": [
        "## The `for` loop\n",
        "\n",
        "If we wanted to have the position of the thrown object at a lot of times, changing the code and re-running it over and over is somewhat inefficient. Luckily for us, computers are very good at repetitive behaviour. Programming languages thus provide a few constructs that enable this – these are called ‘loops’. One of these is called a `for` loop.\n",
        "The for loop is named because it embodies the idea: ‘for every X in Y, do something’. As a concrete example, if you are making something with egg yolks, you may have the following algorithm:\n",
        "\n",
        "    for every egg I have to add:\n",
        "        break the egg\n",
        "        separate the yolk from the egg whites\n",
        "        add the yolk to the bowl\n",
        "        \n",
        "In python, we can use the `for` command in this way.  Suppose we want to print all the numbers from 1 to 10.  This can be accomplished with the bit of code in the cell below:\n"
      ]
    },
    {
      "cell_type": "code",
      "execution_count": null,
      "metadata": {
        "id": "noXWl9qMtsP9"
      },
      "outputs": [],
      "source": [
        "\n",
        "for n in range(1,11):\n",
        "    print(\"Number\",n)\n",
        "print(\"I'm done!\")\n"
      ]
    },
    {
      "cell_type": "markdown",
      "metadata": {
        "id": "a7ELpLittsP_"
      },
      "source": [
        "Let's dissect this bit of code a bit.  The `range` command produces a list of numbers from 1 to 10. We'll learn more about lists soon, but for now, remember that `range(a,b)` produces a list from `a` to `b-1`. (You can try this out in the cell above).\n",
        "\n",
        "The `for` command assigns each element of this list to the variable `n`, one by one.  Notice the colon `:` after the `for` command.\n",
        "\n",
        "The ‘do something’ part of the loop is indicated by the __indentation__ of the line: \n",
        "\n",
        "    print(\"Number\",n)\n",
        "    \n",
        "it is offset from the left by a fixed number of spaces, or a tab. It doesn’t matter which you use, as long as you are consistent – you cannot switch from using 4 spaces to 5 spaces for indentation, nor can you switch from any number of spaces to using a tab.\n",
        "\n",
        "At the end, we remove the indentation, which signals the end of the loop.\n",
        "\n",
        "We can, of course, do some more complicated things in the loop. For example, we may wish to print the number and its square:\n",
        "\n",
        "    for n in range(1,11): # Produces numbers from 1 to 11-1=10 and assigns them to n one by one\n",
        "        print(n,n**2)\n",
        "        \n",
        "Try this out! Also to try: what does `range` do with floating point values? "
      ]
    },
    {
      "cell_type": "code",
      "execution_count": null,
      "metadata": {
        "id": "lYSOnGo6tsP_"
      },
      "outputs": [],
      "source": [
        ""
      ]
    },
    {
      "cell_type": "markdown",
      "metadata": {
        "id": "cVM74lm-tsP_"
      },
      "source": [
        "We can use the idea of a loop to evaluate our expression above for the position of a thrown ball for a bunch of different times.  Take your code above, and modify it so it prints the $y$ position for times $t$={0,1,2,3,4,5,6,7,8,9,10}.\n",
        "\n",
        "(You may want to turn gravity down a smidge, say to $2$ish m/s$^2$ so the object doesn't end up below the floor with a negative position.)"
      ]
    },
    {
      "cell_type": "code",
      "execution_count": null,
      "metadata": {
        "id": "yg9s9UmttsP_"
      },
      "outputs": [],
      "source": [
        ""
      ]
    },
    {
      "cell_type": "markdown",
      "metadata": {
        "id": "uZiDR0UPtsQA"
      },
      "source": [
        "We can use loops to do something other than just print numbers. We can create a new variable `s` for sum, and add all the numbers in the loop to it.\n",
        "\n",
        "    s = 0\n",
        "    for n in range(1,11):\n",
        "        s = s + n\n",
        "        print(\"I'm adding the number\",n,\"to the sum, which now contains the value\",s)\n",
        "    print(\"We're done! s now contains\",s)\n",
        "    \n",
        "Try running this in the cell below."
      ]
    },
    {
      "cell_type": "code",
      "execution_count": null,
      "metadata": {
        "id": "VG9bd-gqtsQA"
      },
      "outputs": [],
      "source": [
        ""
      ]
    },
    {
      "cell_type": "markdown",
      "metadata": {
        "id": "tWVYT5FPtsQA"
      },
      "source": [
        "## Conditionals\n",
        "\n",
        "Sometimes, while our program is running, we will want it to do something if some condition is fulfilled. This is accomplished in python by, not surprisingly, an `if` statement, and its relative, `else`. \n",
        "\n",
        "For example, suppose we want to take our list of 10 numbers and print out whether they are odd or even. This is accomplished by checking to see whether the number is divisible by two. We’ll use the modulus operation that we learned about in the pre-class activities. If a number is even, its remainder when divided by 2 should be 0. \n",
        "\n",
        "For example:"
      ]
    },
    {
      "cell_type": "code",
      "execution_count": null,
      "metadata": {
        "id": "fNeTUuL_tsQA"
      },
      "outputs": [],
      "source": [
        "N = 16\n",
        "if N % 2 == 0:  # N is even\n",
        "    print(N,'is even!')\n",
        "else:           # N is odd\n",
        "    print(N,'is odd!')"
      ]
    },
    {
      "cell_type": "markdown",
      "metadata": {
        "id": "7utwCNwAtsQB"
      },
      "source": [
        "Make sure you understand what the above does (and try changing the number N).  Notice that, just as with the `for` command, we indent to indicate the code block to execute, and there is a colon `:` following both the condition and the `else`.\n",
        "\n",
        "Notice the double equals sign `==` used in this piece of code. This is the comparison operator, and it is different from the assignment operator (`=`). Mixing these up is an extremely common typographical error! Here, the comparison operator checks to see whether the thing on the left hand side (the remainder of n divided by 2) and the right hand side (0) are equal.\n",
        "\n",
        "We can use `if` statements everywhere, including in the middle of a loop:"
      ]
    },
    {
      "cell_type": "code",
      "execution_count": null,
      "metadata": {
        "id": "XOdBPOQ2tsQB"
      },
      "outputs": [],
      "source": [
        "for n in range(1,11): # Produces numbers from 1 to 11-1=10 and assigns them to n one by one\n",
        "    if n % 2 == 0:  # N is even\n",
        "        print(n,'is even!')\n",
        "    else:           # N is odd\n",
        "        print(n,'is odd!')"
      ]
    },
    {
      "cell_type": "markdown",
      "source": [
        "**Never EVER** compare variables with **floating numbers**!!!\n",
        "**Never EVER** compare variables with **floating numbers**!!!\n",
        "**Never EVER** compare variables with **floating numbers**!!!\n",
        "**Never EVER** compare variables with **floating numbers**!!!\n",
        "**Never EVER** compare variables with **floating numbers**!!!"
      ],
      "metadata": {
        "id": "E2t1YfCRK1Od"
      }
    },
    {
      "cell_type": "code",
      "source": [
        "0.2 + 0.2 + 0.2 == 0.6"
      ],
      "metadata": {
        "id": "5y7Rv1E2K8ju"
      },
      "execution_count": null,
      "outputs": []
    },
    {
      "cell_type": "code",
      "source": [
        "0.1 + 0.2 == 0.3"
      ],
      "metadata": {
        "id": "RP8KRSNSMKYS"
      },
      "execution_count": null,
      "outputs": []
    },
    {
      "cell_type": "markdown",
      "metadata": {
        "id": "OvhBt3Z7tsQC"
      },
      "source": [
        "Notice that once we're inside the `for` block of code, we indent *again* to indicate the bit of code to run in the `if` and `else` blocks."
      ]
    },
    {
      "cell_type": "markdown",
      "metadata": {
        "id": "eBPWOpdttsQC"
      },
      "source": [
        "## `and`, `or` & `not`\n",
        "\n",
        "It may be that you have multiple conditions you need to satisfy.  Say, for example, you'd like to know whether a number is odd and divisible by 3.  You can string the conditions after an `if` together in intuitive ways.  Additionally, you can use `not` to negate a condition:"
      ]
    },
    {
      "cell_type": "code",
      "execution_count": null,
      "metadata": {
        "id": "T297pQvytsQC"
      },
      "outputs": [],
      "source": [
        "for n in range(1,11):  # Produces numbers from 1 to 11-1=10 and assigns them to n one by one\n",
        "    if not n % 2 == 0 and n % 3==0:   # N is odd and divisible by 3\n",
        "        print(n,'is odd and divisible by three!')\n",
        "    if not n % 2 == 0:                # N is odd\n",
        "        print(n,'is odd!')\n",
        "        "
      ]
    },
    {
      "cell_type": "markdown",
      "metadata": {
        "id": "_kchOSpetsQC"
      },
      "source": [
        "Make sure that you understand the above statements and why python is printing what it's printing."
      ]
    },
    {
      "cell_type": "markdown",
      "metadata": {
        "id": "n6OIEMNNtsQD"
      },
      "source": [
        "## `else` and `elif`\n",
        "\n",
        "While the above works, it would be nice if we could check a condition after a first one is false.  For example, we might rewrite the above example in the following way which eliminates the double printing of numbers:"
      ]
    },
    {
      "cell_type": "code",
      "execution_count": null,
      "metadata": {
        "id": "4JkG5IHYtsQD"
      },
      "outputs": [],
      "source": [
        "for n in range(1,11):\n",
        "    if not n % 2 == 0 and n % 3==0:\n",
        "        print(n,'is odd and divisible by three!')\n",
        "    elif not n % 2 == 0:\n",
        "        print(n,'is odd!')\n",
        "    else:\n",
        "        print(n,'is even!')"
      ]
    },
    {
      "cell_type": "markdown",
      "metadata": {
        "id": "LlPQEDUmtsQD"
      },
      "source": [
        "Note that there is more than one way of accomplishing this.  In the cell below, write a small bit of code that produces the same output as the above but with nested if statements:\n",
        "\n",
        "    if something1:\n",
        "        if something1:\n",
        "            do a thing\n",
        "        else:\n",
        "            do a different thing\n",
        "    else:\n",
        "        do a more different thing"
      ]
    },
    {
      "cell_type": "markdown",
      "source": [
        "# Putting It All Together: Make your own Function"
      ],
      "metadata": {
        "id": "BOHL0p0ftmBN"
      }
    },
    {
      "cell_type": "markdown",
      "source": [
        "Python user-defined funciton\n",
        "\n",
        "```\n",
        "def any_function_name(input):\n",
        "    <operations>\n",
        "    ...\n",
        "    output = <do_something>\n",
        "    return output\n",
        "```\n",
        "\n"
      ],
      "metadata": {
        "id": "x2VsueNCtrMY"
      }
    },
    {
      "cell_type": "code",
      "source": [
        "import time"
      ],
      "metadata": {
        "id": "QIY48Cc2BGQL"
      },
      "execution_count": null,
      "outputs": []
    },
    {
      "cell_type": "code",
      "execution_count": null,
      "metadata": {
        "id": "D5VteJoAtsQE"
      },
      "outputs": [],
      "source": [
        "def add1minus2(x):\n",
        "    x = x + 1 - 2\n",
        "    return x"
      ]
    },
    {
      "cell_type": "code",
      "source": [
        "add1minus2(5)"
      ],
      "metadata": {
        "id": "okHVtnx4-9sc"
      },
      "execution_count": null,
      "outputs": []
    },
    {
      "cell_type": "code",
      "source": [
        "def factorial(x):\n",
        "    tmp = 1\n",
        "    for i in range(1,x+1):\n",
        "        tmp *= i\n",
        "    return tmp\n",
        "\n",
        "def factorial_recursive(x):\n",
        "    if x == 1:\n",
        "        return 1\n",
        "    else:\n",
        "        return (x * factorial_recursive(x-1))"
      ],
      "metadata": {
        "id": "QO_qaNbP_CEE"
      },
      "execution_count": null,
      "outputs": []
    },
    {
      "cell_type": "code",
      "source": [
        "num = 100\n",
        "\n",
        "start = time.time()\n",
        "a = factorial(num)\n",
        "print('1st function takes {:.5} seconds to execute.'.format(time.time()-start))\n",
        "\n",
        "start = time.time()\n",
        "b = factorial_recursive(num)\n",
        "print('2nd function takes {:.5} seconds to execute.'.format(time.time()-start))\n"
      ],
      "metadata": {
        "id": "gTKuvDmu_L5R"
      },
      "execution_count": null,
      "outputs": []
    },
    {
      "cell_type": "code",
      "source": [
        ""
      ],
      "metadata": {
        "id": "p3vM2WV_AndK"
      },
      "execution_count": null,
      "outputs": []
    },
    {
      "cell_type": "markdown",
      "source": [
        "#Data Structures: Lists, Arrays, Dictionaries, and Sets\n",
        "\n",
        "\n",
        "A list is a way that we store multiple items in a single variable. We can put any of type of variables into a list. Two basic examples:"
      ],
      "metadata": {
        "id": "GpiF5KDJuQ1e"
      }
    },
    {
      "cell_type": "code",
      "source": [
        "my_opinion = ['physics', 'is']\n",
        "numbers = [9, 7, 5, 3, 1, 0, 0]"
      ],
      "metadata": {
        "id": "Wu3viDlvuezN"
      },
      "execution_count": null,
      "outputs": []
    },
    {
      "cell_type": "markdown",
      "source": [
        "I haven't completed my_opinion. What is physics? We can use list.append() to add a new variable at the end of the list. Let's try it"
      ],
      "metadata": {
        "id": "0CUKEs1WwAbi"
      }
    },
    {
      "cell_type": "code",
      "source": [
        "negative_opinion = 'boring'\n",
        "my_opinion.append(negative_opinion)\n",
        "print(my_opinion)"
      ],
      "metadata": {
        "id": "xS9V5OIswWDN"
      },
      "execution_count": null,
      "outputs": []
    },
    {
      "cell_type": "markdown",
      "source": [
        "What if I think more highly of physics and want to change the word boring? We can delete the third object of a list with list.pop(). We have to specify which element we want to delete. Python **indexes starting at 0**. This means that the third element of fun is my_opinion[2]. We'll talk more about accessing by index of an array later, but it's important to note that you need hard brackets. Let's get rid of boring and say physics is fun!"
      ],
      "metadata": {
        "id": "gS3Oi7DGwi-u"
      }
    },
    {
      "cell_type": "code",
      "source": [
        "my_opinion = ['physics', 'is', 'boring']\n",
        "positive_opinion = 'fun'\n",
        "my_opinion.pop(2)\n",
        "print(my_opinion)\n",
        "my_opinion.append(positive_opinion)\n",
        "print(my_opinion)"
      ],
      "metadata": {
        "id": "t3EfArcHzWPH"
      },
      "execution_count": null,
      "outputs": []
    },
    {
      "cell_type": "markdown",
      "source": [
        "What if I want to insert the word \"not\"? Because I don't think it's boring but it's also not exactly fun? We can use list.insert(position, object). The position is the indices we want to put the object BEFORE. Aka here, we want to put this before the third object. Note: we can use either '' or \"\" to define strings."
      ],
      "metadata": {
        "id": "_Qg1Ei-E2MRc"
      }
    },
    {
      "cell_type": "code",
      "source": [
        "my_opinion = ['physics', 'is', 'fun']\n",
        "my_opinion.insert(2,\"not\")\n",
        "print(my_opinion)"
      ],
      "metadata": {
        "id": "-xN_FKnj2xsj"
      },
      "execution_count": null,
      "outputs": []
    },
    {
      "cell_type": "markdown",
      "source": [
        "We can figure out some more properties of lists like its length or how many times something occurs in a list. If we have a list of numbers, we can also find out the maximum and minimum. Let's look at how many, say, apples get eaten in a week. "
      ],
      "metadata": {
        "id": "KUDnMWu61klx"
      }
    },
    {
      "cell_type": "code",
      "source": [
        "apples_eaten = [2, 2, 2, 1, 0, 2, 3]\n",
        "print(\"The number of days in a week is\", len(apples_eaten))\n",
        "print(\"The maximum and minimum numbers of apples eaten in a day are (respectively):\")\n",
        "print(max(apples_eaten))\n",
        "print(min(apples_eaten))\n",
        "\n",
        "print(\"We ate two apples\", apples_eaten.count(2), \"days this week\")\n",
        "\n",
        "print(\"The index of the day we first ate one apple is\",apples_eaten.index(1))\n",
        "print(\"But we first ate one apple on day\", apples_eaten.index(1)+1 )\n",
        "\n",
        "print(\"This week we ate a total of\",sum(apples_eaten), \"apples\")\n"
      ],
      "metadata": {
        "id": "qcZCdwc331WE"
      },
      "execution_count": null,
      "outputs": []
    },
    {
      "metadata": {
        "id": "BUJrW5j07oIj"
      },
      "cell_type": "markdown",
      "source": [
        "To install Numpy on Ubuntu systems, run\n",
        "\n",
        "    sudo apt-get install python-numpy\n",
        " \n",
        "The main object is ndarray (N-dimensional array).\n",
        "\n",
        "The data type is specified by another NumPy object called dtype (data-type); each ndarray is associated with only one type of dtype.\n",
        "\n",
        "The number of the dimensions and items in an array is deinfed by its shape, which is a tuple of N-positive intergers that specifies the size for each dimension. The dimensions are defined as axes and the number of axes are defined as rank.\n",
        "\n",
        "Once you define the size of Numpy arrays at the time of createion, it remains unchanged whereas the Python lists can grow or shrink in size"
      ]
    },
    {
      "metadata": {
        "id": "vKX9rWPU7egB"
      },
      "cell_type": "code",
      "source": [
        "import numpy as np"
      ],
      "execution_count": null,
      "outputs": []
    },
    {
      "metadata": {
        "id": "aU_YcrrA9cP0"
      },
      "cell_type": "code",
      "source": [
        "a = np.array([1,2,3]) #define a new ndarray by using array() function\n",
        "print(a)\n",
        "print(type(a)) #check the type of the object\n",
        "a.dtype #check the data-type of the ndarray object"
      ],
      "execution_count": null,
      "outputs": []
    },
    {
      "metadata": {
        "id": "0SMCtvat93-9"
      },
      "cell_type": "markdown",
      "source": [
        "the ndarray object, a, we just created, has one axis, and then its rank is 1, while its shape should be (3,1).\n",
        "\n",
        "ndim is to get the axes;\n",
        "\n",
        "size is to know the array length\n",
        "\n",
        "shape is to get its shape"
      ]
    },
    {
      "metadata": {
        "id": "Qz-YMjYz-PnE"
      },
      "cell_type": "code",
      "source": [
        "a.ndim"
      ],
      "execution_count": null,
      "outputs": []
    },
    {
      "metadata": {
        "id": "2rbTRLYe-VCU"
      },
      "cell_type": "code",
      "source": [
        "a.size"
      ],
      "execution_count": null,
      "outputs": []
    },
    {
      "metadata": {
        "id": "tnN1LqLy-Wc2"
      },
      "cell_type": "code",
      "source": [
        "a.shape"
      ],
      "execution_count": null,
      "outputs": []
    },
    {
      "metadata": {
        "id": "BKTg6a0O-gZY"
      },
      "cell_type": "markdown",
      "source": [
        "To create another array which has rank 2 (2 axes), each of axes has length 2"
      ]
    },
    {
      "metadata": {
        "id": "7pnsYafS-uA8"
      },
      "cell_type": "code",
      "source": [
        "b = np.array([[1.3, 2.4],[0.3, 4.1]])"
      ],
      "execution_count": null,
      "outputs": []
    },
    {
      "metadata": {
        "id": "CsbJ-xTM-1ud"
      },
      "cell_type": "code",
      "source": [
        "b.dtype"
      ],
      "execution_count": null,
      "outputs": []
    },
    {
      "metadata": {
        "id": "yz59HWW_-2-z"
      },
      "cell_type": "code",
      "source": [
        "b.ndim"
      ],
      "execution_count": null,
      "outputs": []
    },
    {
      "metadata": {
        "id": "UHIvQr8U-4DJ"
      },
      "cell_type": "code",
      "source": [
        "b.size"
      ],
      "execution_count": null,
      "outputs": []
    },
    {
      "metadata": {
        "id": "GmptGqGs-4uQ"
      },
      "cell_type": "code",
      "source": [
        "b.shape"
      ],
      "execution_count": null,
      "outputs": []
    },
    {
      "metadata": {
        "id": "oHlGlxOZ_Mn2"
      },
      "cell_type": "markdown",
      "source": [
        "**itemsize** atttribute is important because it defines the size in bytes of each item in the array"
      ]
    },
    {
      "metadata": {
        "id": "wobmheVL_fEB"
      },
      "cell_type": "code",
      "source": [
        "b.itemsize"
      ],
      "execution_count": null,
      "outputs": []
    },
    {
      "cell_type": "markdown",
      "source": [
        "Or you can use the default **sys** package from python to check the entire size in bytes"
      ],
      "metadata": {
        "id": "sbp1EVnRSL55"
      }
    },
    {
      "cell_type": "code",
      "source": [
        "import sys"
      ],
      "metadata": {
        "id": "EzVeD6kfSR9V"
      },
      "execution_count": null,
      "outputs": []
    },
    {
      "cell_type": "code",
      "source": [
        "sys.getsizeof(b)"
      ],
      "metadata": {
        "id": "m0lWvZKFSSl_"
      },
      "execution_count": null,
      "outputs": []
    },
    {
      "metadata": {
        "id": "u03MkLfe_jw2"
      },
      "cell_type": "markdown",
      "source": [
        "**data** attribute is the buffer containing the actual elements of the array"
      ]
    },
    {
      "metadata": {
        "id": "cpAd49lp_w4z"
      },
      "cell_type": "code",
      "source": [
        "b.data"
      ],
      "execution_count": null,
      "outputs": []
    },
    {
      "metadata": {
        "id": "-jH2H80v_6Ao"
      },
      "cell_type": "markdown",
      "source": [
        "##Create an Array\n",
        "\n",
        "use array() function"
      ]
    },
    {
      "metadata": {
        "id": "EmYy1VhWACJC"
      },
      "cell_type": "code",
      "source": [
        "c = np.array([[1,2,3],[4,5,6]])\n",
        "c"
      ],
      "execution_count": null,
      "outputs": []
    },
    {
      "metadata": {
        "id": "XjRR0rkJAk2J"
      },
      "cell_type": "code",
      "source": [
        "type(c)"
      ],
      "execution_count": null,
      "outputs": []
    },
    {
      "metadata": {
        "id": "plb-Vdv9AJB2"
      },
      "cell_type": "markdown",
      "source": [
        "array() also accepts tuples"
      ]
    },
    {
      "metadata": {
        "id": "r4e-DwYWAPyq"
      },
      "cell_type": "code",
      "source": [
        "d = np.array(((1,2,3),(4,5,6)))\n",
        "d"
      ],
      "execution_count": null,
      "outputs": []
    },
    {
      "metadata": {
        "id": "KwQLCWk_Anae"
      },
      "cell_type": "code",
      "source": [
        "type(d)"
      ],
      "execution_count": null,
      "outputs": []
    },
    {
      "metadata": {
        "id": "mikKOcKeAyTU"
      },
      "cell_type": "markdown",
      "source": [
        "array() also accepts mixed lists and tuples"
      ]
    },
    {
      "metadata": {
        "id": "f9b4W4JDA2v1"
      },
      "cell_type": "code",
      "source": [
        "e = np.array([(1,2,3),[4,5,6],(7,8,9)])\n",
        "e"
      ],
      "execution_count": null,
      "outputs": []
    },
    {
      "metadata": {
        "id": "GFT5-AeoA_Ea"
      },
      "cell_type": "code",
      "source": [
        "type(e)"
      ],
      "execution_count": null,
      "outputs": []
    },
    {
      "metadata": {
        "id": "qZCK2dubBH3a"
      },
      "cell_type": "markdown",
      "source": [
        "## Types of Data\n",
        "\n",
        "NumPy arrays can contain a wide variety of data types"
      ]
    },
    {
      "metadata": {
        "id": "NnfLAgBvBOnZ"
      },
      "cell_type": "code",
      "source": [
        "g = np.array([['a','b'],['c','d']])\n",
        "g"
      ],
      "execution_count": null,
      "outputs": []
    },
    {
      "metadata": {
        "id": "l3SXK3VRBW_5"
      },
      "cell_type": "code",
      "source": [
        "g.dtype"
      ],
      "execution_count": null,
      "outputs": []
    },
    {
      "metadata": {
        "id": "tGiCZYTJBanN"
      },
      "cell_type": "code",
      "source": [
        "g.dtype.name #To get the data type name"
      ],
      "execution_count": null,
      "outputs": []
    },
    {
      "metadata": {
        "id": "cgPP19P9BnHK"
      },
      "cell_type": "markdown",
      "source": [
        "##The dtype Option\n",
        "\n",
        "You can define the dtype using the dtype option as argument of the function"
      ]
    },
    {
      "metadata": {
        "id": "epuvesmzBxiP"
      },
      "cell_type": "code",
      "source": [
        "f = np.array([[1,2,3],[4,5,6]], dtype=complex)\n",
        "f"
      ],
      "execution_count": null,
      "outputs": []
    },
    {
      "metadata": {
        "id": "OUQCX3OZB7aR"
      },
      "cell_type": "markdown",
      "source": [
        "##Intrinsic Creation of an Array"
      ]
    },
    {
      "metadata": {
        "id": "0SbmEHILCEH9"
      },
      "cell_type": "markdown",
      "source": [
        "###zeros() function"
      ]
    },
    {
      "metadata": {
        "id": "w9YcxnbpCHSX"
      },
      "cell_type": "code",
      "source": [
        "np.zeros((3,3)) #Note: (3,3) <--need the extra () enclosed to specify a 3-by-3 zero matrix "
      ],
      "execution_count": null,
      "outputs": []
    },
    {
      "metadata": {
        "id": "KywQWb1PCoI9"
      },
      "cell_type": "code",
      "source": [
        "np.zeros(3,3) #Error.."
      ],
      "execution_count": null,
      "outputs": []
    },
    {
      "metadata": {
        "id": "BY8OcYfwCdS5"
      },
      "cell_type": "markdown",
      "source": [
        "###ones() function"
      ]
    },
    {
      "metadata": {
        "id": "oE5crFudCiTy"
      },
      "cell_type": "code",
      "source": [
        "np.ones((3,3))"
      ],
      "execution_count": null,
      "outputs": []
    },
    {
      "metadata": {
        "id": "UiS97G-fC0nE"
      },
      "cell_type": "markdown",
      "source": [
        "###arange() function\n",
        "\n",
        "arange(start, stop(exclusive), step)"
      ]
    },
    {
      "metadata": {
        "id": "ESgXkgNXC4NB"
      },
      "cell_type": "code",
      "source": [
        "np.arange(0,10)"
      ],
      "execution_count": null,
      "outputs": []
    },
    {
      "metadata": {
        "id": "voQmzzXnC8Gr"
      },
      "cell_type": "code",
      "source": [
        "np.arange(4,10)"
      ],
      "execution_count": null,
      "outputs": []
    },
    {
      "metadata": {
        "id": "sxtqhCmUDAAg"
      },
      "cell_type": "code",
      "source": [
        "np.arange(0,12,3) # start, end(exclusive), step"
      ],
      "execution_count": null,
      "outputs": []
    },
    {
      "metadata": {
        "id": "1-txkOBEDJGw"
      },
      "cell_type": "code",
      "source": [
        "np.arange(0,6,0.6)"
      ],
      "execution_count": null,
      "outputs": []
    },
    {
      "metadata": {
        "id": "Q2l64rPcDPyw"
      },
      "cell_type": "markdown",
      "source": [
        "###reshape() function\n",
        "\n",
        "divides a linear array in different parts in the manner specified by the shape argument"
      ]
    },
    {
      "metadata": {
        "id": "XvWgR0InDceV"
      },
      "cell_type": "code",
      "source": [
        "np.arange(0,12).reshape(3,4) # 3 rows, 4 columns"
      ],
      "execution_count": null,
      "outputs": []
    },
    {
      "metadata": {
        "id": "M7xsBAUjDkp2"
      },
      "cell_type": "markdown",
      "source": [
        "###linspace() function\n",
        "\n",
        "linspace(start, stop(exclusive), number of elements)"
      ]
    },
    {
      "metadata": {
        "id": "bDL1gPzNEAHb"
      },
      "cell_type": "code",
      "source": [
        "np.linspace(0,10,5)"
      ],
      "execution_count": null,
      "outputs": []
    },
    {
      "metadata": {
        "id": "2LIkB4ZCEHsB"
      },
      "cell_type": "markdown",
      "source": [
        "###random() function\n",
        "\n",
        "in the numpy.random module"
      ]
    },
    {
      "metadata": {
        "id": "GvhhLx2REYmp"
      },
      "cell_type": "code",
      "source": [
        "np.random.random(3)"
      ],
      "execution_count": null,
      "outputs": []
    },
    {
      "metadata": {
        "id": "-seoATFfEdEX"
      },
      "cell_type": "markdown",
      "source": [
        "To create multidimensional array, pass the size of the array as an argument"
      ]
    },
    {
      "metadata": {
        "id": "LABhFKrzEhmt"
      },
      "cell_type": "code",
      "source": [
        "np.random.random((3,4)) # 3 rows, 4 columns"
      ],
      "execution_count": null,
      "outputs": []
    },
    {
      "metadata": {
        "id": "pWaKHpybEzZH"
      },
      "cell_type": "markdown",
      "source": [
        "##Arithmetic Operators"
      ]
    },
    {
      "metadata": {
        "id": "547IRCvVE4wZ"
      },
      "cell_type": "code",
      "source": [
        "a = np.arange(4)\n",
        "a"
      ],
      "execution_count": null,
      "outputs": []
    },
    {
      "metadata": {
        "id": "virDNUWdE6t5"
      },
      "cell_type": "code",
      "source": [
        "a+4"
      ],
      "execution_count": null,
      "outputs": []
    },
    {
      "metadata": {
        "id": "ef6B7PpEE8MK"
      },
      "cell_type": "code",
      "source": [
        "a*2 "
      ],
      "execution_count": null,
      "outputs": []
    },
    {
      "metadata": {
        "id": "xd7Qa2m9FGkE"
      },
      "cell_type": "markdown",
      "source": [
        "Note the element-wise operations between two arrays:"
      ]
    },
    {
      "metadata": {
        "id": "KDtGTaceFLcE"
      },
      "cell_type": "code",
      "source": [
        "b = np.arange(4,8)\n",
        "b"
      ],
      "execution_count": null,
      "outputs": []
    },
    {
      "metadata": {
        "id": "LnmFjBmeFQSb"
      },
      "cell_type": "code",
      "source": [
        "a + b"
      ],
      "execution_count": null,
      "outputs": []
    },
    {
      "metadata": {
        "id": "Dmv8MpjGFRYe"
      },
      "cell_type": "code",
      "source": [
        "a - b"
      ],
      "execution_count": null,
      "outputs": []
    },
    {
      "metadata": {
        "id": "QCUQTYOOFSwH"
      },
      "cell_type": "code",
      "source": [
        "a * b"
      ],
      "execution_count": null,
      "outputs": []
    },
    {
      "metadata": {
        "id": "tGH5nMg-FviH"
      },
      "cell_type": "code",
      "source": [
        "a * np.sin(b)"
      ],
      "execution_count": null,
      "outputs": []
    },
    {
      "metadata": {
        "id": "OWDHQ2XwFzTe"
      },
      "cell_type": "code",
      "source": [
        "a * np.sqrt(b)"
      ],
      "execution_count": null,
      "outputs": []
    },
    {
      "metadata": {
        "id": "Vm-on3wNF5k_"
      },
      "cell_type": "markdown",
      "source": [
        "For multidimensional case"
      ]
    },
    {
      "metadata": {
        "id": "zfiPv-3bF72L"
      },
      "cell_type": "code",
      "source": [
        "A = np.arange(0,9).reshape(3,3)\n",
        "A"
      ],
      "execution_count": null,
      "outputs": []
    },
    {
      "metadata": {
        "id": "d5iDaLVpGFQr"
      },
      "cell_type": "code",
      "source": [
        "B = np.ones((3,3))\n",
        "B"
      ],
      "execution_count": null,
      "outputs": []
    },
    {
      "metadata": {
        "id": "RpNfv2pCGI0R"
      },
      "cell_type": "code",
      "source": [
        "A * B"
      ],
      "execution_count": null,
      "outputs": []
    },
    {
      "metadata": {
        "id": "lX-uixotGwtb"
      },
      "cell_type": "markdown",
      "source": [
        "##Increment and Decrement Operators"
      ]
    },
    {
      "metadata": {
        "id": "zh-M7UErG04e"
      },
      "cell_type": "code",
      "source": [
        "a = np.arange(4)\n",
        "a"
      ],
      "execution_count": null,
      "outputs": []
    },
    {
      "metadata": {
        "id": "kuEfPgl7G3PX"
      },
      "cell_type": "code",
      "source": [
        "a += 1\n",
        "a"
      ],
      "execution_count": null,
      "outputs": []
    },
    {
      "metadata": {
        "id": "zphaILWrG5O8"
      },
      "cell_type": "code",
      "source": [
        "a -= 1\n",
        "a"
      ],
      "execution_count": null,
      "outputs": []
    },
    {
      "metadata": {
        "id": "BUHRixlJHIJ9"
      },
      "cell_type": "code",
      "source": [
        "a *= 2\n",
        "a"
      ],
      "execution_count": null,
      "outputs": []
    },
    {
      "metadata": {
        "id": "wEIIR7MVHhSD"
      },
      "cell_type": "markdown",
      "source": [
        "##Aggregate Functions"
      ]
    },
    {
      "metadata": {
        "id": "HBEDwhKUHjba"
      },
      "cell_type": "code",
      "source": [
        "a = np.array([3.3, 4.5, 1.2, 5.7, 0.3])\n",
        "a"
      ],
      "execution_count": null,
      "outputs": []
    },
    {
      "metadata": {
        "id": "Ig7rzyfRHoiM"
      },
      "cell_type": "code",
      "source": [
        "a.sum()"
      ],
      "execution_count": null,
      "outputs": []
    },
    {
      "metadata": {
        "id": "v5W8eMACHpfK"
      },
      "cell_type": "code",
      "source": [
        "a.min()"
      ],
      "execution_count": null,
      "outputs": []
    },
    {
      "metadata": {
        "id": "Nzxy9-MBHqWA"
      },
      "cell_type": "code",
      "source": [
        "a.max()"
      ],
      "execution_count": null,
      "outputs": []
    },
    {
      "metadata": {
        "id": "B7-PZzcxHrJw"
      },
      "cell_type": "code",
      "source": [
        "a.mean()"
      ],
      "execution_count": null,
      "outputs": []
    },
    {
      "metadata": {
        "id": "SleZerIDHr-X"
      },
      "cell_type": "code",
      "source": [
        "a.std()"
      ],
      "execution_count": null,
      "outputs": []
    },
    {
      "metadata": {
        "id": "PymmV4xaHz6v"
      },
      "cell_type": "markdown",
      "source": [
        "##Indexing, Slicing, and Iterating\n",
        "\n",
        "###Indexing"
      ]
    },
    {
      "metadata": {
        "id": "92Nn2YDJH-rq"
      },
      "cell_type": "code",
      "source": [
        "a = np.arange(10,16)\n",
        "a"
      ],
      "execution_count": null,
      "outputs": []
    },
    {
      "metadata": {
        "id": "UCqBGKdrIGdf"
      },
      "cell_type": "code",
      "source": [
        "a[4]"
      ],
      "execution_count": null,
      "outputs": []
    },
    {
      "metadata": {
        "id": "JhNGb_UtIIOX"
      },
      "cell_type": "code",
      "source": [
        "a[-1]"
      ],
      "execution_count": null,
      "outputs": []
    },
    {
      "metadata": {
        "id": "hbj2Bc-XIKCI"
      },
      "cell_type": "code",
      "source": [
        "a[-6]"
      ],
      "execution_count": null,
      "outputs": []
    },
    {
      "metadata": {
        "id": "7h0ugPzkIMya"
      },
      "cell_type": "markdown",
      "source": [
        "To select multiple items at once, pass the array of indices in square brackets"
      ]
    },
    {
      "metadata": {
        "id": "0dlZ-etiIT8X"
      },
      "cell_type": "code",
      "source": [
        "a[[1,3,4]]"
      ],
      "execution_count": null,
      "outputs": []
    },
    {
      "metadata": {
        "id": "keP9q2dcIvp3"
      },
      "cell_type": "markdown",
      "source": [
        "Two-dimensional case,\n",
        "\n",
        "defined by two axes, where axis 0 is the row and axis 1 is the column.\n",
        "\n",
        "Indexing should be a pair of values: first value is the index of the row and the second is the index of the column.\n",
        "\n",
        "pass in the square brackets: [row index, coulmn index]"
      ]
    },
    {
      "metadata": {
        "id": "ABxel0KoJOuG"
      },
      "cell_type": "code",
      "source": [
        "A = np.arange(10,19).reshape(3,3)\n",
        "A"
      ],
      "execution_count": null,
      "outputs": []
    },
    {
      "metadata": {
        "id": "_g7Mrz_fJgPf"
      },
      "cell_type": "code",
      "source": [
        "A[1,2] #index starts with 0"
      ],
      "execution_count": null,
      "outputs": []
    },
    {
      "metadata": {
        "id": "WjXR4bprJmSW"
      },
      "cell_type": "markdown",
      "source": [
        "###Slicing"
      ]
    },
    {
      "metadata": {
        "id": "27ejckEUJzBc"
      },
      "cell_type": "code",
      "source": [
        "a = np.arange(10,16)\n",
        "a"
      ],
      "execution_count": null,
      "outputs": []
    },
    {
      "metadata": {
        "id": "b6VG__0xJ23A"
      },
      "cell_type": "code",
      "source": [
        "a[1:5] #not include the last element"
      ],
      "execution_count": null,
      "outputs": []
    },
    {
      "metadata": {
        "id": "-ENa3VFQKKt8"
      },
      "cell_type": "markdown",
      "source": [
        "To skip a specific number of following items:\n",
        "\n",
        "[start:stop:step]"
      ]
    },
    {
      "metadata": {
        "id": "EkG0h6EhKWgG"
      },
      "cell_type": "code",
      "source": [
        "a[1:5:2]"
      ],
      "execution_count": null,
      "outputs": []
    },
    {
      "metadata": {
        "id": "9l2uMy4PKnYq"
      },
      "cell_type": "markdown",
      "source": [
        "More examples"
      ]
    },
    {
      "metadata": {
        "id": "yNJ50llgKoiq"
      },
      "cell_type": "code",
      "source": [
        "a[::2] #starts at index 0, stops at max index, skip 1 element"
      ],
      "execution_count": null,
      "outputs": []
    },
    {
      "metadata": {
        "id": "uQsmVhq2K8co"
      },
      "cell_type": "code",
      "source": [
        "a[:5:2] #starts at index 0, stops at index 5, skip 1 element"
      ],
      "execution_count": null,
      "outputs": []
    },
    {
      "metadata": {
        "id": "A7y14cAwLC9h"
      },
      "cell_type": "code",
      "source": [
        "a[:5:] #starts at index 0, stops at index 5, skip 0 element"
      ],
      "execution_count": null,
      "outputs": []
    },
    {
      "metadata": {
        "id": "d7-bsJKtLN10"
      },
      "cell_type": "markdown",
      "source": [
        "For two-dimensional array...\n",
        "\n",
        "If you want to extract only the first row,"
      ]
    },
    {
      "metadata": {
        "id": "bk0oBQFRLU2m"
      },
      "cell_type": "code",
      "source": [
        "A = np.arange(10,19).reshape((3,3))\n",
        "A"
      ],
      "execution_count": null,
      "outputs": []
    },
    {
      "metadata": {
        "id": "KNiLdX_ALZpX"
      },
      "cell_type": "code",
      "source": [
        "A[0,:] #slice at row 0 (first row)"
      ],
      "execution_count": null,
      "outputs": []
    },
    {
      "metadata": {
        "id": "ppvG9nN0Llpj"
      },
      "cell_type": "markdown",
      "source": [
        "extract the first column,"
      ]
    },
    {
      "metadata": {
        "id": "P3lUJIfRLoTD"
      },
      "cell_type": "code",
      "source": [
        "A[:,0]"
      ],
      "execution_count": null,
      "outputs": []
    },
    {
      "metadata": {
        "id": "LNZw0ogYLv5h"
      },
      "cell_type": "markdown",
      "source": [
        "If you want to extract a smaller matrix,"
      ]
    },
    {
      "metadata": {
        "id": "zj3tcrPxLzjI"
      },
      "cell_type": "code",
      "source": [
        "A[0:2, 0:2] #Note: from row 0 to row 1, from column 0 to column 1.. "
      ],
      "execution_count": null,
      "outputs": []
    },
    {
      "metadata": {
        "id": "ZB0sN8cmMG7w"
      },
      "cell_type": "markdown",
      "source": [
        "If you want to specify an array of indices,"
      ]
    },
    {
      "metadata": {
        "id": "uiMXN7APMNJj"
      },
      "cell_type": "code",
      "source": [
        "A[[0,2], 0:2] # row 0 and row 2, from column 0 to column 1"
      ],
      "execution_count": null,
      "outputs": []
    },
    {
      "metadata": {
        "id": "XYHodlOnMZKG"
      },
      "cell_type": "markdown",
      "source": [
        "###Iterating an Array"
      ]
    },
    {
      "metadata": {
        "id": "fJQAieEAMe_e"
      },
      "cell_type": "code",
      "source": [
        "for i in a:\n",
        "  print(i)"
      ],
      "execution_count": null,
      "outputs": []
    },
    {
      "metadata": {
        "id": "tCyPITiPMkX2"
      },
      "cell_type": "markdown",
      "source": [
        "For two-dimensional array, didn't need nested for loop. Actually, if you apply the for loop to a matrix, it will always perform a scan according to the first axis"
      ]
    },
    {
      "metadata": {
        "id": "GxVEn3OVMiFd"
      },
      "cell_type": "code",
      "source": [
        "for row in A:\n",
        "  print(row)"
      ],
      "execution_count": null,
      "outputs": []
    },
    {
      "metadata": {
        "id": "dRAmSMaxM7KT"
      },
      "cell_type": "markdown",
      "source": [
        "To make a iteration element by element, use the flat attribute on the matrix object..."
      ]
    },
    {
      "metadata": {
        "id": "wtPr2gj6NEMH"
      },
      "cell_type": "code",
      "source": [
        "A.flat #didn't show anything"
      ],
      "execution_count": null,
      "outputs": []
    },
    {
      "metadata": {
        "id": "9gERqymeNJvn"
      },
      "cell_type": "code",
      "source": [
        "for item in A.flat:\n",
        "  print(item)"
      ],
      "execution_count": null,
      "outputs": []
    },
    {
      "metadata": {
        "id": "UPzVOmgMNYuv"
      },
      "cell_type": "markdown",
      "source": [
        "The **apply_along_axis()** function is used to launch an aggregate function that returns a value calculated for every single column or on every single row.\n",
        "\n",
        "This function takes three arguments: the aggregate function, the axis on which to apply the iteration, and the array.\n",
        "\n",
        "If axis=0, the iteration evaluates the elements column by column. (along axis 0 direction)\n",
        "\n",
        "If axis=1, the iteration evaluates the elements row by row. (along axis 1 direction)"
      ]
    },
    {
      "metadata": {
        "id": "qUzXBomQONOH"
      },
      "cell_type": "code",
      "source": [
        "A"
      ],
      "execution_count": null,
      "outputs": []
    },
    {
      "metadata": {
        "id": "Zqpo5SPsOHMO"
      },
      "cell_type": "code",
      "source": [
        "np.apply_along_axis(np.mean, axis=0, arr=A)"
      ],
      "execution_count": null,
      "outputs": []
    },
    {
      "metadata": {
        "id": "1gdTikpSOR_j"
      },
      "cell_type": "code",
      "source": [
        "np.apply_along_axis(np.mean, axis=1, arr=A)"
      ],
      "execution_count": null,
      "outputs": []
    },
    {
      "metadata": {
        "id": "r2_168wmOf9C"
      },
      "cell_type": "markdown",
      "source": [
        "You can also use this function for user-defined function..."
      ]
    },
    {
      "metadata": {
        "id": "wBb5dSmZOj3E"
      },
      "cell_type": "code",
      "source": [
        "def foo(x):\n",
        "  return x/2"
      ],
      "execution_count": null,
      "outputs": []
    },
    {
      "metadata": {
        "id": "am-IaUWsOoTx"
      },
      "cell_type": "code",
      "source": [
        "np.apply_along_axis(foo, axis=0, arr=A)"
      ],
      "execution_count": null,
      "outputs": []
    },
    {
      "metadata": {
        "id": "SFydz20ZOtt3"
      },
      "cell_type": "code",
      "source": [
        "np.apply_along_axis(foo, axis=1, arr=A)"
      ],
      "execution_count": null,
      "outputs": []
    },
    {
      "metadata": {
        "id": "ZvBhIjSrTEsT"
      },
      "cell_type": "markdown",
      "source": [
        "##Conditions and Boolean Arrays\n",
        "\n",
        "Use the conditions and Boolean opearators to extract elements"
      ]
    },
    {
      "metadata": {
        "id": "Qkvc8Bj2TOU5"
      },
      "cell_type": "code",
      "source": [
        "A = np.random.random((4,4))\n",
        "A"
      ],
      "execution_count": null,
      "outputs": []
    },
    {
      "metadata": {
        "id": "N9MateweTUUs"
      },
      "cell_type": "code",
      "source": [
        "A < 0.5"
      ],
      "execution_count": null,
      "outputs": []
    },
    {
      "metadata": {
        "id": "7u6Vwu1cTWPu"
      },
      "cell_type": "code",
      "source": [
        "A[A < 0.5]"
      ],
      "execution_count": null,
      "outputs": []
    },
    {
      "metadata": {
        "id": "VuQ-qe8DTaqL"
      },
      "cell_type": "markdown",
      "source": [
        "##Shape Manipulation\n",
        "###reshape() fucntion\n",
        "\n",
        "returns a new array and can be used to create new objects"
      ]
    },
    {
      "metadata": {
        "id": "ZW-s3sSAT2NH"
      },
      "cell_type": "code",
      "source": [
        "a = np.random.random(12)\n",
        "a"
      ],
      "execution_count": null,
      "outputs": []
    },
    {
      "metadata": {
        "id": "4WAMJPI3T5b3"
      },
      "cell_type": "code",
      "source": [
        "A = a.reshape(3,4)\n",
        "A"
      ],
      "execution_count": null,
      "outputs": []
    },
    {
      "metadata": {
        "id": "IRJob-RCUFoU"
      },
      "cell_type": "markdown",
      "source": [
        "###shape attribute\n",
        "\n",
        "If you want to modify the object without create a new object, use shape attribute to pass the tuple containing the new dimensions directly"
      ]
    },
    {
      "metadata": {
        "id": "1h3AGRNfUYAX"
      },
      "cell_type": "code",
      "source": [
        "a.shape = (3, 4) #Note: use TUPLE\n",
        "a"
      ],
      "execution_count": null,
      "outputs": []
    },
    {
      "metadata": {
        "id": "Zm2jhDy-UmfB"
      },
      "cell_type": "markdown",
      "source": [
        "###ravel() function\n",
        "\n",
        "Inverse operation: convert a two-dimensional array into a one-dimensional array"
      ]
    },
    {
      "metadata": {
        "id": "WUWBkc3eT7z-"
      },
      "cell_type": "code",
      "source": [
        "a = a.ravel()\n",
        "a"
      ],
      "execution_count": null,
      "outputs": []
    },
    {
      "metadata": {
        "id": "5UE9sQPgVE5C"
      },
      "cell_type": "code",
      "source": [
        "a.shape = (12)\n",
        "a"
      ],
      "execution_count": null,
      "outputs": []
    },
    {
      "metadata": {
        "id": "mKMaBGNBVKYv"
      },
      "cell_type": "markdown",
      "source": [
        "###transpose() function"
      ]
    },
    {
      "metadata": {
        "id": "akvmPj4LVXZN"
      },
      "cell_type": "code",
      "source": [
        "A"
      ],
      "execution_count": null,
      "outputs": []
    },
    {
      "metadata": {
        "id": "CJdQNIrZVNbo"
      },
      "cell_type": "code",
      "source": [
        "A.transpose()"
      ],
      "execution_count": null,
      "outputs": []
    },
    {
      "metadata": {
        "id": "ST1-YskJVQON"
      },
      "cell_type": "markdown",
      "source": [
        "##Array Manipulation\n",
        "###Joining Arrays\n",
        "\n",
        "merge multiple arrays to form a new one that contains all of the arrays"
      ]
    },
    {
      "metadata": {
        "id": "LDu8gUyhVxEV"
      },
      "cell_type": "markdown",
      "source": [
        "**vstack() function**\n",
        "\n",
        "combines the second array as new rows of the first array. The array grows in a vertical direction."
      ]
    },
    {
      "metadata": {
        "id": "sjo4ZbNrV-cW"
      },
      "cell_type": "code",
      "source": [
        "A = np.ones((3,3))\n",
        "B = np.zeros((3,3))\n",
        "np.vstack((A,B)) #argument must be in tuple"
      ],
      "execution_count": null,
      "outputs": []
    },
    {
      "metadata": {
        "id": "25QmUq_DWQB7"
      },
      "cell_type": "markdown",
      "source": [
        "**hstack() function**\n",
        "\n",
        "combines the second array as new columns of the first array. in horizontal direction"
      ]
    },
    {
      "metadata": {
        "id": "_Io_ntwsWY33"
      },
      "cell_type": "code",
      "source": [
        "np.hstack((A,B))"
      ],
      "execution_count": null,
      "outputs": []
    },
    {
      "metadata": {
        "id": "X01waDNEWriV"
      },
      "cell_type": "markdown",
      "source": [
        "**column_stack()** and **row_stack()** are used with one-dimensional arrays"
      ]
    },
    {
      "metadata": {
        "id": "CFj_XVlQWz9j"
      },
      "cell_type": "code",
      "source": [
        "a = np.array([0,1,2])\n",
        "b = np.array([3,4,5])\n",
        "c = np.array([6,7,8])\n",
        "np.column_stack((a,b,c)) #arg must be tuple"
      ],
      "execution_count": null,
      "outputs": []
    },
    {
      "metadata": {
        "id": "2e4YeYKrXDZ7"
      },
      "cell_type": "code",
      "source": [
        "np.row_stack((a,b,c))"
      ],
      "execution_count": null,
      "outputs": []
    },
    {
      "metadata": {
        "id": "yDy_-k0FXGkA"
      },
      "cell_type": "markdown",
      "source": [
        "###Splitting Arrays"
      ]
    },
    {
      "metadata": {
        "id": "rRMreL6JXdTr"
      },
      "cell_type": "code",
      "source": [
        "A = np.arange(16).reshape((4,4))\n",
        "A"
      ],
      "execution_count": null,
      "outputs": []
    },
    {
      "metadata": {
        "id": "oYCBf7A7Xp5s"
      },
      "cell_type": "markdown",
      "source": [
        "**hsplit() function**\n",
        "\n",
        "split the array horizontally, meaning the width of the array is divided into **2** parts"
      ]
    },
    {
      "metadata": {
        "id": "alG2tUXjX47u"
      },
      "cell_type": "code",
      "source": [
        "[B, C] = np.hsplit(A, 2) # second arg means to divide into 2 parts\n",
        "B"
      ],
      "execution_count": null,
      "outputs": []
    },
    {
      "metadata": {
        "id": "ydaa7NwdYD1W"
      },
      "cell_type": "code",
      "source": [
        "C"
      ],
      "execution_count": null,
      "outputs": []
    },
    {
      "metadata": {
        "id": "rZdd-iqNYHQF"
      },
      "cell_type": "markdown",
      "source": [
        "**vsplit() function**\n",
        "\n",
        "split the array vertically, meaning the height of the array is divided into **2** parts"
      ]
    },
    {
      "metadata": {
        "id": "lXwPvyOsYTNi"
      },
      "cell_type": "code",
      "source": [
        "[B, C] = np.vsplit(A, 2)\n",
        "B"
      ],
      "execution_count": null,
      "outputs": []
    },
    {
      "metadata": {
        "id": "sW-Gsa2hYXQo"
      },
      "cell_type": "code",
      "source": [
        "C"
      ],
      "execution_count": null,
      "outputs": []
    },
    {
      "metadata": {
        "id": "xc83S-rmYqrO"
      },
      "cell_type": "markdown",
      "source": [
        "**split() function**\n",
        "\n",
        "allows you to split the array into nonsymmetrical parts\n",
        "\n",
        "You also need to specify the indices of the parts to be divided\n",
        "\n",
        "If axis = 0, the indices will be rows; if axis = 1, the indices will be columns.\n",
        "\n",
        "For example, if you want to divide matrix A into three parts, the first of which is the first column, the second contains the second and the third column, and the third is the last column, you must specify in the following way:"
      ]
    },
    {
      "metadata": {
        "id": "9vV7HAstZk1T"
      },
      "cell_type": "code",
      "source": [
        "[A1, A2, A3] = np.split(A, [1,3], axis = 1) # [1,3] means starting at index 1 and ending at index 2\n",
        "A1"
      ],
      "execution_count": null,
      "outputs": []
    },
    {
      "metadata": {
        "id": "tn_ZLa7AZ2MI"
      },
      "cell_type": "code",
      "source": [
        "A2"
      ],
      "execution_count": null,
      "outputs": []
    },
    {
      "metadata": {
        "id": "WJj1ObVFZ20F"
      },
      "cell_type": "code",
      "source": [
        "A3"
      ],
      "execution_count": null,
      "outputs": []
    },
    {
      "metadata": {
        "id": "SIXIaA90Z51L"
      },
      "cell_type": "markdown",
      "source": [
        "Do the same thing by row:"
      ]
    },
    {
      "metadata": {
        "id": "IoVaE8WEZ73C"
      },
      "cell_type": "code",
      "source": [
        "[A1, A2, A3] = np.split(A, [1,3], axis=0)\n",
        "A1"
      ],
      "execution_count": null,
      "outputs": []
    },
    {
      "metadata": {
        "id": "oHxoNvZvaAu3"
      },
      "cell_type": "code",
      "source": [
        "A2"
      ],
      "execution_count": null,
      "outputs": []
    },
    {
      "metadata": {
        "id": "ZwFzLEjtaBha"
      },
      "cell_type": "code",
      "source": [
        "A3"
      ],
      "execution_count": null,
      "outputs": []
    },
    {
      "metadata": {
        "id": "NK5RKVl2aLkV"
      },
      "cell_type": "markdown",
      "source": [
        "##Copies or Views of Objects\n",
        "\n",
        "The following assignments are just the views of the original array, not a copy!!"
      ]
    },
    {
      "metadata": {
        "id": "ydNcbjeXawo5"
      },
      "cell_type": "code",
      "source": [
        "a = np.array([1,2,3,4])\n",
        "b = a\n",
        "b"
      ],
      "execution_count": null,
      "outputs": []
    },
    {
      "metadata": {
        "id": "h1n7NiVycOiz"
      },
      "cell_type": "code",
      "source": [
        "a[2] = 0\n",
        "b #change in a[2] changes b[2] as well"
      ],
      "execution_count": null,
      "outputs": []
    },
    {
      "metadata": {
        "id": "ANrlPS27cYRL"
      },
      "cell_type": "code",
      "source": [
        "c = a[0:2]\n",
        "c #slicing"
      ],
      "execution_count": null,
      "outputs": []
    },
    {
      "metadata": {
        "id": "e3Y4GEUEcclM"
      },
      "cell_type": "code",
      "source": [
        "a[0] = 0\n",
        "c #change in a[0] changes c[0] as well"
      ],
      "execution_count": null,
      "outputs": []
    },
    {
      "metadata": {
        "id": "VNEdaSNecl-8"
      },
      "cell_type": "markdown",
      "source": [
        "**copy() function** generates a complete and distinct array"
      ]
    },
    {
      "metadata": {
        "id": "18qTVpvmcrRS"
      },
      "cell_type": "code",
      "source": [
        "a = np.array([1,2,3,4])\n",
        "c = a.copy() #real copy\n",
        "c"
      ],
      "execution_count": null,
      "outputs": []
    },
    {
      "metadata": {
        "id": "qX85NoWUcwxf"
      },
      "cell_type": "code",
      "source": [
        "a[0] = 0\n",
        "c #change in a[0] doesn't affect c[0]"
      ],
      "execution_count": null,
      "outputs": []
    },
    {
      "metadata": {
        "id": "3KA_Mxw85jKg"
      },
      "cell_type": "markdown",
      "source": [
        "##Loading and Saving Data in Binary Files\n",
        "\n",
        "###save()\n",
        "\n",
        "The file wil automatically be given the .npy extension\n"
      ]
    },
    {
      "metadata": {
        "id": "b_ebZeOU56b7"
      },
      "cell_type": "code",
      "source": [
        "data = np.random.random(12).reshape((4,3))\n",
        "data"
      ],
      "execution_count": null,
      "outputs": []
    },
    {
      "metadata": {
        "id": "9sq4j1l96EHN"
      },
      "cell_type": "code",
      "source": [
        "np.save('saved_data', data)"
      ],
      "execution_count": null,
      "outputs": []
    },
    {
      "metadata": {
        "id": "WpwAknCt6OQm"
      },
      "cell_type": "markdown",
      "source": [
        "###load()"
      ]
    },
    {
      "metadata": {
        "id": "4IsS77Ld6R5T"
      },
      "cell_type": "code",
      "source": [
        "loaded_data = np.load('saved_data.npy')\n",
        "loaded_data"
      ],
      "execution_count": null,
      "outputs": []
    },
    {
      "cell_type": "markdown",
      "source": [
        "## List comprehesion\n",
        "Task: create a list that contains a series of consecutive sqaured odd numbers from 1 to 19, i.e.,\n",
        "\n",
        "\n",
        "```\n",
        "input = [1, 3, 5, 7, 9, 11, 13, 15, 17, 19]\n",
        "output = [1, 9, 25, 49, 81, 121, 169, 225, 289, 361]\n",
        "```\n",
        "\n"
      ],
      "metadata": {
        "id": "TPkPdOtEGQj6"
      }
    },
    {
      "cell_type": "code",
      "source": [
        "n_start, n_end, n_step = 1, 20, 2"
      ],
      "metadata": {
        "id": "r2sxgTtLJTT7"
      },
      "execution_count": null,
      "outputs": []
    },
    {
      "cell_type": "code",
      "source": [
        "# 1st method\n",
        "# simple for loop\n",
        "start = time.time()\n",
        "list1 = []\n",
        "for i in range(n_start, n_end, n_step):\n",
        "    tmp = i**2\n",
        "    list1.append(tmp)\n",
        "print('Execution time: {:.5} seconds.'.format(time.time()-start))\n",
        "list1, type(list1), sys.getsizeof(list1)"
      ],
      "metadata": {
        "id": "GryJGvPJHXTE"
      },
      "execution_count": null,
      "outputs": []
    },
    {
      "cell_type": "code",
      "source": [
        "# 2nd method\n",
        "# numpy linspace\n",
        "start = time.time()\n",
        "list2 = (np.arange(n_start, n_end, n_step) **2).tolist()\n",
        "print('Execution time: {:.5} seconds.'.format(time.time()-start))\n",
        "list2, type(list2), sys.getsizeof(list2)"
      ],
      "metadata": {
        "id": "HWfmK2w6GDuz"
      },
      "execution_count": null,
      "outputs": []
    },
    {
      "cell_type": "code",
      "source": [
        "# 3rd method\n",
        "# list comprehesion\n",
        "start = time.time()\n",
        "list3 = [i**2 for i in range(n_start, n_end, n_step)]\n",
        "print('Execution time: {:.5} seconds.'.format(time.time()-start))\n",
        "list3, type(list3), sys.getsizeof(list3)"
      ],
      "metadata": {
        "id": "5JjQg457GzmP"
      },
      "execution_count": null,
      "outputs": []
    },
    {
      "cell_type": "code",
      "source": [
        ""
      ],
      "metadata": {
        "id": "QvNMJwTKIhZa"
      },
      "execution_count": null,
      "outputs": []
    }
  ],
  "metadata": {
    "kernelspec": {
      "display_name": "Python 3",
      "language": "python",
      "name": "python3"
    },
    "language_info": {
      "codemirror_mode": {
        "name": "ipython",
        "version": 3
      },
      "file_extension": ".py",
      "mimetype": "text/x-python",
      "name": "python",
      "nbconvert_exporter": "python",
      "pygments_lexer": "ipython3",
      "version": "3.8.5"
    },
    "colab": {
      "name": "Basic_python.ipynb",
      "provenance": [],
      "collapsed_sections": [
        "tWVYT5FPtsQA",
        "eBPWOpdttsQC",
        "n6OIEMNNtsQD",
        "-jH2H80v_6Ao",
        "qZCK2dubBH3a",
        "cgPP19P9BnHK",
        "OUQCX3OZB7aR",
        "0SbmEHILCEH9",
        "BY8OcYfwCdS5",
        "UiS97G-fC0nE",
        "Q2l64rPcDPyw",
        "M7xsBAUjDkp2",
        "2LIkB4ZCEHsB",
        "pWaKHpybEzZH",
        "lX-uixotGwtb",
        "wEIIR7MVHhSD",
        "PymmV4xaHz6v",
        "WjXR4bprJmSW",
        "XYHodlOnMZKG",
        "ZvBhIjSrTEsT",
        "VuQ-qe8DTaqL",
        "IRJob-RCUFoU",
        "Zm2jhDy-UmfB",
        "mKMaBGNBVKYv",
        "ST1-YskJVQON",
        "yDy_-k0FXGkA",
        "NK5RKVl2aLkV",
        "3KA_Mxw85jKg",
        "WpwAknCt6OQm"
      ]
    }
  },
  "nbformat": 4,
  "nbformat_minor": 0
}