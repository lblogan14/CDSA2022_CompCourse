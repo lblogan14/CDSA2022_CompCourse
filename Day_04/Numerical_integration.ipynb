{
  "nbformat": 4,
  "nbformat_minor": 0,
  "metadata": {
    "colab": {
      "name": "Numerical_integration.ipynb",
      "private_outputs": true,
      "provenance": []
    },
    "kernelspec": {
      "name": "python3",
      "display_name": "Python 3"
    },
    "language_info": {
      "name": "python"
    }
  },
  "cells": [
    {
      "cell_type": "markdown",
      "metadata": {
        "id": "wbtfSOTi3GMg"
      },
      "source": [
        "# Numerical Integration \n",
        "\n",
        "Throughout physics we encounter the need to evaluate integrals. \n",
        "For example, work is the line integral of a force along a path, Gauss' law relates the surface\n",
        "integral of the electric field to the enclosed charge, the action is the integral of the Lagrangian,\n",
        "_etc_. \n",
        "\n",
        "## Learning objectives:\n",
        "* Be able to numerically compute an integral using left/right/midpoint methods.\n",
        "* Make an assessment of the accuracy of the integral and plot the error as a function of the number of intervals"
      ]
    },
    {
      "cell_type": "markdown",
      "metadata": {
        "id": "w5ict6513GMl"
      },
      "source": [
        "## Preliminary: computing sums\n",
        "\n",
        "As part of this section, we'll need to know how to compute some sums.  Recall that there are a few ways of doing that.  Recall that we computed the sum of an array of numbers `xarray` using:\n",
        "\n",
        "    # ################################################\n",
        "    # For loop type 1\n",
        "    \n",
        "    # Prepare a variable to store the sum\n",
        "    mysum=0\n",
        "    \n",
        "    # Loop over indices\n",
        "    for i in range(len(xarray)):\n",
        "        mysum = mysum + xarray[i]\n",
        "        \n",
        "    # ################################################\n",
        "    # For loop type 2 \n",
        "    # Prepare a variable to store the sum\n",
        "    mysum=0\n",
        "    \n",
        "    # Loop over values\n",
        "    for x in xarray:\n",
        "        mysum = mysum + x\n",
        "    \n",
        "    # ################################################\n",
        "    # No loops -- use the built-in `sum` function\n",
        "    mysum = np.sum( xarray )\n",
        "    \n",
        "If you're ever confused about what a numpy function does, Google is your friend:\n",
        "https://docs.scipy.org/doc/numpy-1.15.0/reference/generated/numpy.sum.html. Although the documentation may be somewhat overwhelming at times, there is usually a simple example or two at the bottom of the page.\n",
        "\n",
        "**Exercise**: Compute the sum of the numbers ``1.0`` through ``10.0`` (inclusive) separated by ``1`` using all three the methods above.  You'll need to generate the `xarray`.  Print it before you sum, just to make sure you have it right."
      ]
    },
    {
      "cell_type": "code",
      "execution_count": null,
      "metadata": {
        "id": "LaTaG5143GMm"
      },
      "outputs": [],
      "source": [
        "# Method 1: sum 1 to 10 using for loop with array\n",
        "import numpy as np\n",
        "\n",
        "xarray = np.linspace(1,10,10) # generate array from 1 to 10\n",
        "print(xarray)\n",
        "\n",
        "# Prepare a variable to store the sum\n",
        "mysum=0\n",
        "\n",
        "# Loop over indices\n",
        "for i in range(len(xarray)):\n",
        "    mysum = mysum + xarray[i]\n",
        "    \n",
        "print(mysum)"
      ]
    },
    {
      "cell_type": "code",
      "execution_count": null,
      "metadata": {
        "id": "ZOEMSlhB3GMo"
      },
      "outputs": [],
      "source": [
        "# Method 2: \n",
        "\n",
        "# Prepare a variable to store the sum\n",
        "mysum2 = 0\n",
        "\n",
        "# Loop over values\n",
        "for x in xarray:\n",
        "    mysum2 = mysum2 + x\n",
        "    \n",
        "print(mysum2)"
      ]
    },
    {
      "cell_type": "code",
      "execution_count": null,
      "metadata": {
        "id": "SDiWfDw53GMo"
      },
      "outputs": [],
      "source": [
        "# Method 3\n",
        "print(np.sum(xarray))"
      ]
    },
    {
      "cell_type": "markdown",
      "metadata": {
        "id": "IpUcveRv3GMp"
      },
      "source": [
        "## Rectangle Methods\n",
        "\n",
        "\n",
        "The integral of a function is the \"area under the curve\". (This is the case for most functions we encounter in \n",
        "physics. Some exotic functions require a more sophisticated definition of the integral.) The area under the \n",
        "curve $f(x)$ from $x=a$ to $x=b$ can be approximated as the sum of the areas of the rectangles shown in the figure:\n",
        "\n",
        "<img src=\"https://www.physics.ncsu.edu/kemperlab/NumericalIntegral.png\">\n",
        "\n",
        "The rectangles are formed by dividing the interval $[a,b]$ into $N$ subintervals, from $[x_0,x_1]$, to \n",
        "$[x_{N-1},x_N]$. (Note that $x_0 = a$ and $x_N = b$.) The height of each rectangle is the value of the function \n",
        "at some point $\\bar x_i$ within the subinterval\n",
        "$[x_{i-1},x_i]$. The area of the $i$th rectangle is the product of the height $f(t_i)$ and the width $x_{i} - x_{i-1}$. \n",
        "Then the integral \n",
        "\n",
        "$$\n",
        "I = \\int_a^b f(x)\\, dx\n",
        "$$\n",
        "\n",
        "is approximated by the sum of the areas of the rectangles:\n",
        "\n",
        "$$\n",
        "I \\approx \\sum_{i=0}^{N-1} f(\\bar x_i)\\,(x_i - x_{i-1})\n",
        "$$\n",
        "\n",
        "This approximation is called the Riemann sum. The exact value for $I$ is obtained by taking the limit $N\\to \\infty$.\n",
        "\n",
        "In practice we must choose where to place the $x_i$'s and  $\\bar x_i$'s before using the Riemann sum to \n",
        "approximate the integral $I$. Different choices lead to different numerical integration methods.\n",
        "The simplest choice for the $x_i$'s is to make them equally spaced between the endpoints. That is, \n",
        "let $h = (b-a)/N$ denote the width of each subinterval, with\n",
        "\n",
        "$$\n",
        "x_i = a + ih\n",
        "$$\n",
        "\n",
        "for $i = 0,\\ldots N-1$. There are three obvious choices for the $\\bar x_i$'s:\n",
        "\n",
        "1) With $\\bar x_i = x_{i} = a + ih $, the height of each rectangle \n",
        "is the value of the function at the left side of the subinterval. This yields the _left endpoint rule_ approximation to $I$:\n",
        "\n",
        "$$\n",
        "I_L =  \\sum_{i=0}^{N-1} f(a + ih) \\, h\n",
        "$$\n",
        "\n",
        "2) With $\\bar x_i = x_{i+1} = a + (i+1)h$, the height of each rectangle is the value of the function at the right side of the subinterval. This \n",
        "is the _right endpoint rule_\n",
        "\n",
        "$$\n",
        "I_R =  \\sum_{i=0}^{N-1} f(a + (i+1)h) \\, h\n",
        "$$\n",
        "\n",
        "3) With $\\bar x_i = (x_i + x_{i+1})/2 = a + ih +h/2$, the height of each rectangle is the value of the \n",
        "function at the midpoint of the subinterval. This yields \n",
        "\n",
        "$$\n",
        "I_M =  \\sum_{i=0}^{N-1} f(a + (i+1/2)h) \\, h\n",
        "$$\n",
        "\n",
        "which is called the \"midpoint rule\". "
      ]
    },
    {
      "cell_type": "markdown",
      "metadata": {
        "id": "AtGpfXLi3GMq"
      },
      "source": [
        "Exercise\n",
        "----------\n",
        "Write a code some integrate the function $f(x) = \\sin x$ between $a=0$ and $b=\\pi/2$ using both \n",
        "the left and right endpoint rules. Structure your code so that it's easy to change $f(x)$, $a$, $b$, and the \n",
        "number of subintervals $N$. I suggest that you make a function of the form:\n",
        "\n",
        "    def leftpoint(f, a, b, N):\n",
        "\n",
        "where you may pass in the function `f` (defined elsewhere), and the variables `a`, `b` and `N`.\n",
        "\n",
        "Compare your results of left/right endpoint to each other, and to the correct value.\n",
        "Your results should become more accurate as you increase the number of subintervals $N$. "
      ]
    },
    {
      "cell_type": "code",
      "execution_count": null,
      "metadata": {
        "jupyter": {
          "outputs_hidden": false
        },
        "id": "4_2G1JmU3GMr"
      },
      "outputs": [],
      "source": [
        "import numpy as np\n",
        "\n",
        "\n",
        "# Hint: for development/debugging,\n",
        "# you may want to pick a set of $x_i$ that you know.  Print them to the screen to ensure\n",
        "# you know that x-axis is correct. For example, a=1, b=2, N = 10.\n",
        "\n",
        "# Define function for left point integration. (a,b) is the start-end point, and N is th e grid numbers.\n",
        "def leftpoint(f,a,b,N):\n",
        "    h= abs(a-b)/N\n",
        "    mysum = 0\n",
        "    # Compute the sum somehow. Maybe one of the loops above?\n",
        "    for i in range(N):\n",
        "        mysum = mysum + f(a+(i*h))*h\n",
        "    return mysum\n",
        "\n",
        "# a nicely-commented version\n",
        "# integrates function f from a to b in N steps\n",
        "def leftpoint(f,a,b,N): \n",
        "    h= abs(a-b)/N # h = the width of the rectangles\n",
        "    sum = 0 \n",
        "    for i in range(N): # go through each of the N rectangles\n",
        "        sum = sum + f(a+(i*h))*h  #x = a+ih at the left side of rectangle\n",
        "    return sum\n",
        "\n",
        "\n",
        "def rightpoint(f,a,b,N):\n",
        "    h= abs(a-b)/N\n",
        "    mysum = 0\n",
        "    # Compute the sum somehow. Maybe one of the loops above?\n",
        "    for i in range(N):\n",
        "        mysum = mysum + f(a+((i+1)*h))*h\n",
        "    return mysum\n",
        "\n",
        "def midpoint(f, a, b, N):\n",
        "    h= abs(a-b)/N\n",
        "    mysum= 0\n",
        "    for i in range(N):\n",
        "        mysum= mysum + f(a+(i+0.5)*h)*h\n",
        "    return mysum"
      ]
    },
    {
      "cell_type": "code",
      "source": [
        "N = 100\n",
        "\n",
        "print(\"The leftpoint result of the integral for\" ,N, \"intervals is\",leftpoint(np.sin,0,np.pi/2,N))\n",
        "print(\"The rightpoint result of the integral for\" ,N, \"intervals is\",rightpoint(np.sin,0,np.pi/2,N))"
      ],
      "metadata": {
        "id": "7_M-qEtF4kNi"
      },
      "execution_count": null,
      "outputs": []
    },
    {
      "cell_type": "markdown",
      "metadata": {
        "id": "pWP5mkMb3GMt"
      },
      "source": [
        "You may notice that the answer is not exactly close to the real answer.  Let's investigate how poorly we're doing.  We can do this here by computing the integral for a variable number of intervals ($N_1, N_2, N_3, ...$).  Suppose we do this for $m$ intervals.  We'll need some storage space, and to compute the integral for each $N_m$.\n",
        "\n",
        "Exercise\n",
        "--------\n",
        "Compute the integral of $sin(x)$ from $x=0$ to $x=\\pi/2$ using the leftpoint rule using $N=2,4,8,16,32,64,128,256,512,1024$.  Make a plot of the answer as a function of $N_m$."
      ]
    },
    {
      "cell_type": "code",
      "execution_count": null,
      "metadata": {
        "id": "XS8eo8503GMu"
      },
      "outputs": [],
      "source": [
        "import pylab as py\n",
        "import numpy as np\n",
        "\n",
        "Nlist = [2,4,8,16,32,64,128,256,512,1024]\n",
        "anslist = np.zeros(len(Nlist))\n",
        "\n",
        "# Note the use of `enumerate` here.  We'll want to store the result in a\n",
        "# different array than the one we're looping over, so `enumerate`\n",
        "# makes sense.\n",
        "for iN, N in enumerate(Nlist):\n",
        "    anslist[iN] = leftpoint(np.sin, 0, np.pi/2, N) # Evaluate the integral using the function you defined\n",
        "\n",
        "py.plot(Nlist, anslist,'o-')\n",
        "py.xlabel('# of intervals')\n",
        "py.ylabel('value of integral')\n",
        "py.show()"
      ]
    },
    {
      "cell_type": "markdown",
      "metadata": {
        "id": "WwPqet5F3GMv"
      },
      "source": [
        "Eventually, for large N, it looks like we approach the right answer.  It's somewhat hard to see exactly how\n",
        "close we get on these scales,\n",
        "so let's adjust.  Make a plot of $\\log(|$calculated answer - real answer$|)$ vs $\\log(N_m)$. $|x|$ indicates the absolute value of $x$, and it's implemented in `numpy` as `numpy.abs()`.\n",
        "\n",
        "_Question:_ Which base is the logarithm computed in?  How could you change it?  (Google is your friend)\n",
        "\n",
        "_Note:_ you can probably re-use your array of answers from above!"
      ]
    },
    {
      "cell_type": "code",
      "execution_count": null,
      "metadata": {
        "id": "EGwoJDWN3GMw"
      },
      "outputs": [],
      "source": [
        "py.plot(np.log(Nlist), np.log(1-anslist),'o-')\n",
        "py.xlabel('log(# of intervals)')\n",
        "py.ylabel('log(error on integral)')\n",
        "py.show()"
      ]
    },
    {
      "cell_type": "markdown",
      "metadata": {
        "id": "3ZaVfG7u3GMx"
      },
      "source": [
        "If all went well, you got a straight line.  What is the slope?\n",
        "\n",
        "Intuitively, we expect the midpoint rule to give a better approximation to the area under the curve than the left or right \n",
        "endpoint rules. "
      ]
    },
    {
      "cell_type": "markdown",
      "metadata": {
        "id": "E9L0gXhS3MEU"
      },
      "source": [
        "Numerical errors in integration methods \n",
        "\n",
        "You should be able to observe that the errors in the left and right endpoint rules for numerical integration are proportional to $1/N$, where $N$ is the \n",
        "number of subintervals. The width of each subinterval is $h = (b-a)/N$, so we say the error in these methods \"scales like\" (is proportional to) $h$.\n",
        "\n",
        "Thus, if you want to reduce the error in a calculation by a factor of $10^6$, you must increase the number of subintervals \n",
        "by a factor of $10^6$. This requires $10^6$ times as many evaluations of the integrand $f(x)$. This might be fine for simple problems, \n",
        "with simple integrands. \n",
        "But for complicated integrands that require a lot of computer time to evaluate, this can be a problem. In those cases \n",
        "we need a more efficient integration scheme. \n",
        "\n",
        "The midpoint rule is better than the left or right endpoint rules; the errors in this method are proportional to $1/N^2$, \n",
        "or $h^2$. With the midpoint rule we can reduce the error by a factor of $10^6$ by increasing the number of subintervals \n",
        "by a factor of $1000$. This requires \"only\" $1000$ times as many evaluations of $f(x)$. \n",
        "\n",
        "Today, we'll find out: *can we do even better?* and what are the pros/cons of the different methods?\n",
        "\n"
      ]
    },
    {
      "cell_type": "markdown",
      "metadata": {
        "id": "PKQwJzIT3MEV"
      },
      "source": [
        "## Trapezoid rule\n",
        "\n",
        "The errors for the left endpoint rule and the right endpoint rule are similar. To be precise, \n",
        "the order $h^2$ terms are the same apart from the overall sign, and the point of evaluation of $f''(x)$. The point of evaluation should \n",
        "not make much difference, assuming $h$ is small. This suggests that the errors in the left and right endpoint rules should be\n",
        "approximately equal in magnitude but opposite in sign.  You might have noticed this from working with the \n",
        "left and right endpoint rules in the previous lesson. \n",
        "\n",
        "This observation leads us to the trapezoid rule for numerical integration. The trapezoid rule is obtained by \n",
        "taking the _average_ of the left and right endpoint rules. That is, we approximate the integral \n",
        "\n",
        "$$\n",
        "\tI = \\int_a^b f(x)\\,dx\n",
        "$$\n",
        "\n",
        "by \n",
        "\n",
        "$$\n",
        "\tI_T = \\frac{1}{2} \\left( I_L + I_R\\right) = \\sum_{i=0}^{N-1} \\frac{1}{2} \\left[ f(a + ih) + f(a + ih + h) \\right] h\n",
        "$$\n",
        "\n",
        "Geometrically, the area for each subinterval is approximated as the area of a trapezoid that touches the curve $f(x)$ at both \n",
        "endpoints. Note that the trapezoid rule can be rearranged in this way:\n",
        "\n",
        "$$\n",
        "\tI_T = \\frac{h}{2}\\left[ f(a) + f(b)\\right] + \\sum_{i=1}^{N-1} f(a+ih) h\n",
        "$$\n",
        "\n",
        "This result is important because it shows that the trapezoid rule requires only $N+1$ evaluations of the function $f(x)$. This is essentially the same as the number of evaluations required for the left endpoint, right endpoint, and midpoint rules, \n",
        "namely $N$. \n",
        "\n",
        "**Note:** In the second version, can you see how the $i=0$ and $i=N-1$ contributions to the sum are moved out of the sum? \n",
        "\n",
        "\n"
      ]
    },
    {
      "cell_type": "markdown",
      "metadata": {
        "id": "vWVSC69A3MEW"
      },
      "source": [
        "## Exercise:\n",
        "\n",
        "Consider the integral\n",
        "\n",
        "$$\n",
        "\tI = \\int_{-1}^1 \\cos(x^2 - x) \\, dx\n",
        "$$\n",
        "\n",
        "For the left endpoint rule, midpoint rule, and trapezoid rule, find (approximately) the number \n",
        "of subintervals required to achieve an error of about $\\pm 10^{-4}$. In each case, how many function evaluations \n",
        "are required? "
      ]
    },
    {
      "cell_type": "code",
      "execution_count": null,
      "metadata": {
        "id": "365PODez3MEX"
      },
      "outputs": [],
      "source": [
        "def trapepoint(f, a, b, N):\n",
        "    h= abs(a-b)/N\n",
        "    mysum= (f(a)+f(b))*h/2\n",
        "    for i in range(1, N):\n",
        "        mysum= mysum + f(a+i*h)*h\n",
        "    return mysum\n",
        "\n",
        "def cosSq(x):\n",
        "    return(np.cos(x**2-x))\n",
        "\n",
        "\n",
        "# Main code\n",
        "value = 1.55547 # analytical value (from Wolfram Alpha)\n",
        "\n",
        "#printing out a table of whetehr I've reached 10-4 precision\n",
        "print('reached 10^-4 precision?')\n",
        "for N in range(7):\n",
        "    resultL = leftpoint(cosSq, -1, 1, 10**N)\n",
        "    resultM = midpoint(cosSq, -1, 1, 10**N)\n",
        "    resultT = trapepoint(cosSq, -1, 1, 10**N)\n",
        "    #print('10^'N, \"\\t\", resultL-value, \"\\t\", resultM-value, \"\\t\", resultT-value)\n",
        "    print('10^', N, \"\\t\", abs(resultL-value) <1e-4, \n",
        "              \"\\t\", abs(resultM-value) <1e-4, \n",
        "              \"\\t\", abs(resultT-value) <1e-4)"
      ]
    },
    {
      "cell_type": "markdown",
      "metadata": {
        "id": "2ZzV0eRb3MEY"
      },
      "source": [
        "## Simpson's Rule\n",
        "\n",
        "We have now identified two integration methods with errors (per subinterval) of order $h^3$. The midpoint rule has error \n",
        "${\\cal E}_M$ in each subinterval. The trapezoid rule has error ${\\cal E}_T$\n",
        "in each subinterval. \n",
        "Some math would show that to leading order, ${\\cal E}_T = -2{\\cal E}_M$. This suggests \n",
        "that we can define a new integration method as a weighted sum of the midpoint and trapezoid rules, designed \n",
        "to cancel the order $h^3$ terms in the error. This leads to *Simpson's rule*:\n",
        "\n",
        "$$\n",
        "\tI_S = \\frac{1}{3} I_T + \\frac{2}{3} I_M\n",
        "$$\n",
        "\n",
        "which can be written explicitly as\n",
        "\n",
        "$$\n",
        "\tI_S = \\frac{h}{6}\\left\\{ f(a) + f(b) + 2\\sum_{i=1}^{N-1} f(a + ih) + 4\\sum_{i=1}^N f(a+ih - h/2) \\right\\}\n",
        "$$\n",
        "\n",
        "Note that for implementation purposes, you could simply call the trapezoid and midpoint functions you've already written.\n",
        "\n",
        "For Simpson's rule, the errors of order $h^3$ from the midpoint and trapezoid rules cancel. A complete analysis \n",
        "shows that the order $h^4$ terms in the error actually vanish as well. The leading non--zero term in the error is proportional \n",
        "to $h^5$. That is, for Simpson's rule, the error in each \n",
        "subinterval is order $h^5$. The total error for $N\\sim 1/h$ subintervals \n",
        "is proportional to $Nh^5 \\sim h^4$. \n",
        "\n",
        "Geometrically, Simpson's rule is obtained by approximating the area in each subinterval as the area under \n",
        "a parabola that matches the function $f(x)$ at each endpoint and at the midpoint. \n",
        "Simpson's rule is more efficient than any of the other integration methods we have discussed. If we want to reduce \n",
        "the error by a factor of $10^6$, we must increase the number of subintervals by a factor of \n",
        "$10^{6/4}\\approx 32$. Note that Simpson's rule requires $2N + 1$ function evaluations. This is roughly twice as \n",
        "many evaluations as our other methods. However, the rapid reduction of error with a relatively small increase in $N$ \n",
        "will usually offset the extra function calls.  "
      ]
    },
    {
      "cell_type": "markdown",
      "metadata": {
        "id": "AbpaBGZH3MEZ"
      },
      "source": [
        "## Exercise:\n",
        "\n",
        "The error function is defined by \n",
        "\n",
        "$$\n",
        "\t{\\rm erf}(x) \\equiv \\frac{2}{\\sqrt{\\pi}} \\int_0^x e^{-t^2} dt\n",
        "$$\n",
        "\n",
        "a) Write a function `SimpErf` to evaluate the error function using Simpson's rule\n",
        "\n",
        "- Input: x\n",
        "- Output: the right hand side of the equation above\n",
        "\n",
        "For this problem, nbgrader will auto-check that your function generates the correct output, from the correct input. You will also include the code in your $\\LaTeX{}$ writeup.\n",
        "\n",
        "Hint: for each value $0 \\le x \\le 3$,  you will need to evaluate the integral over $t$.\n",
        "\n",
        "b) Make a labelled plot of ${\\rm erf}(x)$ versus $x$ for $0 \\le x \\le 3$.\n"
      ]
    },
    {
      "cell_type": "code",
      "execution_count": null,
      "metadata": {
        "id": "CHygXrzF3MEZ"
      },
      "outputs": [],
      "source": [
        "import pylab as py\n",
        "\n",
        "\n",
        "def gauS(x): # Define Guaussian\n",
        "    return np.exp(-x**2)\n",
        "\n",
        "# Define Simpson's integration\n",
        "# midpoint and trapepoint are defined above\n",
        "def simInt(f, a, b, N):\n",
        "    return trapepoint(f,a,b,N)/3 + 2*midpoint(f,a,b,N)/3\n",
        "\n",
        "x = np.linspace(0, 3, 50)\n",
        "erf = np.zeros(len(x))\n",
        "\n",
        "for i in range(len(x)):\n",
        "    erf[i]= 2*simInt(gauS, 0, x[i], 100)/np.sqrt(np.pi) # Calculate the integral for that x\n",
        "\n",
        "py.plot(x, erf,'-')\n",
        "py.xlabel('x')\n",
        "py.ylabel('erf(x)')\n",
        "py.show()"
      ]
    },
    {
      "cell_type": "markdown",
      "metadata": {
        "id": "4Gtozhu-3MEa"
      },
      "source": [
        "## Exercise:\n",
        "\n",
        "\n",
        "### Using `scipy.integrate`\n",
        "\n",
        "Fortunately, people have been working on numerical integration for a long time and have several more advanced methods.  Often, it's not worth reinventing the wheel, and it's better to simply call an already written _library_ function.  In scipy, we can use the `quad` function for this -- it's found in the `scipy.integrate` module.\n",
        "\n",
        "- https://docs.scipy.org/doc/scipy/reference/integrate.html\n",
        "- https://docs.scipy.org/doc/scipy/reference/generated/scipy.integrate.quad.html#scipy.integrate.quad\n",
        "\n",
        "In the simplest form, it takes a function and the limits as arguments:\n",
        "\n",
        "    from scipy.integrate import quad\n",
        "\n",
        "    answer = quad(f, a, b)\n",
        "    \n",
        "`a` and `b` are numbers, and `f` is a function (either one that you define, or one that is already defined. It returns the answer, and an estimate of what the error in the answer is.\n",
        "\n",
        "Define two functions: function `Sq` that returns the square of input $x$ and function `SqInt` that computes the integral of $x^2$ from $a$ to $b$ using the `Sq` and the `quad` function. This problem will be autograded by nbgrader."
      ]
    },
    {
      "cell_type": "code",
      "source": [
        "from scipy.integrate import quad\n",
        "def Sq(x):\n",
        "    return(x**2)\n",
        "\n",
        "def SqInt(a,b):\n",
        "    return(quad(Sq,a,b))\n",
        "\n",
        "a = 0\n",
        "b = 6\n",
        "print('integral of x^2 from x =', a, 'to', b, 'is', SqInt(a,b))"
      ],
      "metadata": {
        "id": "_WdJr8sM5mvY"
      },
      "execution_count": null,
      "outputs": []
    },
    {
      "cell_type": "code",
      "source": [
        ""
      ],
      "metadata": {
        "id": "th--Q8k45neH"
      },
      "execution_count": null,
      "outputs": []
    }
  ]
}